{
 "cells": [
  {
   "cell_type": "code",
   "execution_count": 1,
   "metadata": {},
   "outputs": [],
   "source": [
    "from IPython.display import IFrame, YouTubeVideo, SVG, HTML"
   ]
  },
  {
   "cell_type": "markdown",
   "metadata": {},
   "source": [
    "# เขียนเว็บด้วยภาษา Django "
   ]
  },
  {
   "cell_type": "markdown",
   "metadata": {},
   "source": [
    "## ----------Django---------"
   ]
  },
  {
   "cell_type": "markdown",
   "metadata": {},
   "source": [
    "# เนื้อหา  \n",
    " 1. [ติดตั้ง Python](#การติดตั้ง-Python)  \n",
    " 2. ติดตั้ง Virtual Environment  \n",
    " 3. ติดตั้ง Django  \n",
    " 4. ทดสอบรันเว็บไซต์  \n",
    " 5. ทำความเข้าใจเรื่อง view, url  \n",
    " 6. Hello world in website  \n",
    " 7. ดึง Template bootstrap4  \n",
    " 8. เปลื่ยนรูปแบบเว็บไซต์เป็น Bootstrap4  \n",
    " 9. ทดสอบทำให้เว็บของเราสามารถเข้าถึงจากอินเตอร์เน็ตได้ด้วย ngrok (forward port ชั่วคราว)  \n",
    " 10. Django Concept: MTV (models, template, views)  \n",
    " 11. ทำความเข้าใจเรื่องฐานข้อมูล (Models)  \n",
    " 12. ทำความเข้าใจเรื่องการสร้าง form (html)  \n",
    " 13. ดึงข้อมูลจาก html form เข้าไปใน django แล้วเก็บข้อมูลเข้า database  \n",
    " 14. สร้างช่องสำหรับเก็บข้อมูลรูปภาพ เช่น รูปนักเรียน"
   ]
  },
  {
   "cell_type": "markdown",
   "metadata": {},
   "source": [
    "## -----Function------  \n",
    " 1. สร้างระบบ Login  \n",
    " 2. สร้างระบบสมัครสมาชิก (อาจารย์/นักเรียน)  \n",
    " 3. ระบบเช็คชื่อนักเรียนมาเรียน\n",
    " 4. อาจารย์ประกาศคะแนนสอบให้นักเรียนมาดูในเว็บไซต์ได้\n",
    " 5. ระบบออกเกรดให้นักเรียนมาดูตามรายวิชา\n",
    " 6. นักเรียนสามารถใส่ข้อมูลส่วนตัวได้\n",
    " 7. มีประวัติผลการเรียนทุกเทอม\n",
    " 8. ระบบเก็บคะแนนนักเรียนระหว่างเรียน\n",
    " 9. อาจารย์สามารถค้นหาข้อมูลของนักเรียนได้\n",
    " 10. จำกัดสิทธิ์การมองเห็น (teacher, student)\n",
    " 11. กราฟสรุปการมาของนักเรียน\n",
    " 12. ระบบส่งข้อมูลเข้าไลน์ผู้ปกครอง\n",
    " 13. ระบบอัพโหลดไฟล์ข้อสอบสำหรับอาจารย์\n",
    " 14. อัพโหลดไฟล์แบบฝึกหัดให้นักเรียน\n",
    " 15. ระบบส่งงานอาจารย์ตามรายวิชา\n",
    " 16. ระบบจองห้องเรียน\n",
    " 17. ระบบลาให้ครูอนุมัติ"
   ]
  },
  {
   "cell_type": "markdown",
   "metadata": {},
   "source": [
    "### การติดตั้ง Python"
   ]
  },
  {
   "cell_type": "markdown",
   "metadata": {},
   "source": [
    "* เข้าเว็บไซต์ (https://www.python.org/downloads/) และดาวน์โหลดเวอร์ชั่นล่าสุด หรือก่อนหน้า"
   ]
  },
  {
   "cell_type": "code",
   "execution_count": 9,
   "metadata": {},
   "outputs": [
    {
     "output_type": "execute_result",
     "data": {
      "text/plain": "<IPython.lib.display.IFrame at 0x1a5940fec88>",
      "text/html": "\n        <iframe\n            width=\"800\"\n            height=\"400\"\n            src=\"https://www.python.org\"\n            frameborder=\"0\"\n            allowfullscreen\n        ></iframe>\n        "
     },
     "metadata": {},
     "execution_count": 9
    }
   ],
   "source": [
    "IFrame(\"https://www.python.org\", width=800, height=400)"
   ]
  }
 ],
 "metadata": {
  "language_info": {
   "codemirror_mode": {
    "name": "ipython",
    "version": 3
   },
   "file_extension": ".py",
   "mimetype": "text/x-python",
   "name": "python",
   "nbconvert_exporter": "python",
   "pygments_lexer": "ipython3",
   "version": "3.7.7-final"
  },
  "orig_nbformat": 2,
  "kernelspec": {
   "name": "python3",
   "display_name": "Python 3"
  }
 },
 "nbformat": 4,
 "nbformat_minor": 2
}